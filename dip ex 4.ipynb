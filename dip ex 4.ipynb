{
 "cells": [
  {
   "cell_type": "code",
   "execution_count": null,
   "id": "6686f220-405a-4081-ac82-70bf995e4977",
   "metadata": {},
   "outputs": [],
   "source": [
    "import cv2"
   ]
  },
  {
   "cell_type": "code",
   "execution_count": null,
   "id": "ef19d613-2185-4db4-acbb-c9fa794a89b7",
   "metadata": {},
   "outputs": [],
   "source": [
    "pip install matplotlib"
   ]
  },
  {
   "cell_type": "code",
   "execution_count": null,
   "id": "118d7300-bc41-4d9c-95c0-e3eac9992a00",
   "metadata": {},
   "outputs": [],
   "source": [
    "import cv2\n",
    "import matplotlib.pyplot as plt\n",
    "gray_image = cv2.imread(\"L2.jpg\")\n",
    "clr_image = cv2.imread(\"L1.jpg\",-1)\n",
    "cv2.imshow(\"Gray Image\",gray_image)\n",
    "cv2.imshow(\"Colour Image\",clr_image)\n",
    "cv2.waitKey(0)\n",
    "cv2.destroyAllWindows()"
   ]
  },
  {
   "cell_type": "code",
   "execution_count": null,
   "id": "b60fd8bb-3e29-427b-84c6-e229e6d2abd2",
   "metadata": {},
   "outputs": [],
   "source": [
    "import cv2\n",
    "import matplotlib.pyplot as plt\n",
    "gray_image = cv2.imread(\"L2.jpg\")\n",
    "clr_image = cv2.imread(\"L1.jpg\",-1)\n",
    "gray_hist = cv2.calcHist([gray_image],[0],None,[256],[0,256])\n",
    "clr_hist = cv2.calcHist([clr_image],[0],None,[256],[0,256])\n",
    "plt.figure()\n",
    "plt.imshow(gray_image)\n",
    "plt.show()\n",
    "plt.title(\"Histogram\")\n",
    "plt.xlabel(\"Grayscale Value\")\n",
    "plt.ylabel(\"Pixel Count\")\n",
    "plt.stem(gray_hist)\n",
    "plt.show()\n",
    "plt.imshow(clr_image)\n",
    "plt.show()\n",
    "plt.title(\"Histogram of Color Image - Green Channel\")\n",
    "plt.xlabel(\"Intensity Value\")\n",
    "plt.ylabel(\"Pixel Count\")\n",
    "plt.stem(clr_hist)\n",
    "plt.show()"
   ]
  },
  {
   "cell_type": "code",
   "execution_count": null,
   "id": "a6df4783-f76f-40b9-a674-024c66f76a53",
   "metadata": {},
   "outputs": [],
   "source": [
    "import cv2\n",
    "import matplotlib.pyplot as plt\n",
    "gray_image = cv2.imread(\"L2.jpg\",0)\n",
    "cv2.imshow(\"Gray Image\",gray_image)\n",
    "equ = cv2.equalizeHist(gray_image)\n",
    "cv2.imshow(\"Equalized Image\",equ)\n",
    "cv2.waitKey(0)\n",
    "cv2.destroyAllWindows()"
   ]
  }
 ],
 "metadata": {
  "kernelspec": {
   "display_name": "Python 3 (ipykernel)",
   "language": "python",
   "name": "python3"
  },
  "language_info": {
   "codemirror_mode": {
    "name": "ipython",
    "version": 3
   },
   "file_extension": ".py",
   "mimetype": "text/x-python",
   "name": "python",
   "nbconvert_exporter": "python",
   "pygments_lexer": "ipython3",
   "version": "3.11.2"
  }
 },
 "nbformat": 4,
 "nbformat_minor": 5
}
